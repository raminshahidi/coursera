{
 "cells": [
  {
   "cell_type": "markdown",
   "id": "1ddf66e3-5183-4a1f-aaa2-619a2d69992a",
   "metadata": {},
   "source": [
    "# Data Science Tools and Ecosystem"
   ]
  },
  {
   "cell_type": "markdown",
   "id": "e713865e-71d2-429f-a33e-4ed433eec721",
   "metadata": {},
   "source": [
    "In this notebook, Data Science Tools and Ecosystem are summarized."
   ]
  },
  {
   "cell_type": "markdown",
   "id": "dbe8cc96-3aa2-4f6a-9e0e-3944427d405f",
   "metadata": {},
   "source": [
    "**Objectives**\n",
    "+ Git\n",
    "+ R\n",
    "+ Jupyter notebook"
   ]
  },
  {
   "cell_type": "markdown",
   "id": "d022f221-9294-4fef-bffd-c29acdf685b3",
   "metadata": {},
   "source": [
    "Some of the popular languages that Data Scientists use are:\n",
    "1. Julia\n",
    "2. Python\n",
    "3. R"
   ]
  },
  {
   "cell_type": "markdown",
   "id": "83b8d321-6ce8-42cd-998c-0691fd59382f",
   "metadata": {},
   "source": [
    "Some of the commonly used libraries used by Data Scientists include:\n",
    "\n",
    "1. pandas\n",
    "2. tensorflow\n",
    "3. scikitlearn"
   ]
  },
  {
   "cell_type": "markdown",
   "id": "ecb83afc-0580-4ef6-a99f-de01073fa175",
   "metadata": {},
   "source": [
    "|Data Science Tools|\n",
    "|-----|\n",
    "|Jupiter Notebook|\n",
    "|Visual Studio|\n",
    "|Rstudio IDE|"
   ]
  },
  {
   "cell_type": "markdown",
   "id": "aac25518-4445-4e39-b648-1605a375fcb8",
   "metadata": {},
   "source": [
    "### Below are a few examples of evaluating arithmetic expressions in Python"
   ]
  },
  {
   "cell_type": "code",
   "execution_count": 1,
   "id": "7b14ece3-c45a-47bf-9e5a-71597a67b82f",
   "metadata": {},
   "outputs": [
    {
     "data": {
      "text/plain": [
       "17"
      ]
     },
     "execution_count": 1,
     "metadata": {},
     "output_type": "execute_result"
    }
   ],
   "source": [
    "# This a simple arithmetic expression to mutiply then add integers\n",
    "(3*4)+5"
   ]
  },
  {
   "cell_type": "markdown",
   "id": "5adbec58-9ac5-40ca-966c-a745ad093375",
   "metadata": {},
   "source": [
    "## Author\n",
    "Ramin"
   ]
  },
  {
   "cell_type": "code",
   "execution_count": null,
   "id": "fca68697-8675-481a-8927-34a0aefec279",
   "metadata": {},
   "outputs": [],
   "source": []
  }
 ],
 "metadata": {
  "kernelspec": {
   "display_name": "Python 3 (ipykernel)",
   "language": "python",
   "name": "python3"
  },
  "language_info": {
   "codemirror_mode": {
    "name": "ipython",
    "version": 3
   },
   "file_extension": ".py",
   "mimetype": "text/x-python",
   "name": "python",
   "nbconvert_exporter": "python",
   "pygments_lexer": "ipython3",
   "version": "3.13.5"
  }
 },
 "nbformat": 4,
 "nbformat_minor": 5
}
